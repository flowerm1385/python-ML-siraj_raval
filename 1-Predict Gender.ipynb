{
 "cells": [
  {
   "cell_type": "code",
   "execution_count": null,
   "metadata": {
    "collapsed": true
   },
   "outputs": [],
   "source": [
    "from sklearn import tree\n",
    "from sklearn.svm import SVC\n",
    "from sklearn.linear_model import Perceptron\n",
    "from sklearn.neighbors import KNeighborsClassifier\n",
    "from sklearn.metrics import accuracy_score\n",
    "import numpy as np\n",
    "\n",
    "# Data and labels\n",
    "X = [[181, 80, 44], [177, 70, 43], [160, 60, 38], [154, 54, 37], [166, 65, 40], [190, 90, 47], [175, 64, 39],\n",
    "     [177, 70, 40], [159, 55, 37], [171, 75, 42], [181, 85, 43]]\n",
    "\n",
    "Y = list('mmffmmfffmm')\n",
    "\n",
    "# Classifiers\n",
    "# using the default values for all the hyperparameters\n",
    "models = [dict(name=\"\", obj=M, pred=[], acc=0) for M in \n",
    "          [tree.DecisionTreeClassifier(), SVC(), Perceptron(), KNeighborsClassifier()]]\n",
    "\n",
    "# Training the models\n",
    "for model in models: \n",
    "        model['obj'].fit(X,Y)\n",
    "        model['pred'] = model['obj'].predict(X)\n",
    "        model['name'] = type(model['obj']).__name__\n",
    "        model['acc'] = accuracy_score(Y, model['pred']) * 100\n",
    "        print('Accuracy for {}: {}'.format(model['name'], model['acc']))\n",
    "\n",
    "# The best classifier\n",
    "index = np.argmax([model['acc'] for model in models])\n",
    "print('Best gender classifier is {}'.format(models[index]['name']))"
   ]
  },
  {
   "cell_type": "code",
   "execution_count": null,
   "metadata": {
    "collapsed": true
   },
   "outputs": [],
   "source": []
  }
 ],
 "metadata": {
  "kernelspec": {
   "display_name": "Python 3",
   "language": "python",
   "name": "python3"
  },
  "language_info": {
   "codemirror_mode": {
    "name": "ipython",
    "version": 3
   },
   "file_extension": ".py",
   "mimetype": "text/x-python",
   "name": "python",
   "nbconvert_exporter": "python",
   "pygments_lexer": "ipython3",
   "version": "3.6.0"
  }
 },
 "nbformat": 4,
 "nbformat_minor": 2
}
